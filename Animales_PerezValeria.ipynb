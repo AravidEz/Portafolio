{
 "cells": [
  {
   "cell_type": "code",
   "execution_count": 119,
   "metadata": {},
   "outputs": [],
   "source": [
    "class Animal():\n",
    "    def __init__(self, nombre, patas, color):\n",
    "        self.name = nombre\n",
    "        self.patas = patas\n",
    "        self.color = color\n",
    "        \n",
    "    def description(self):\n",
    "        return f\"El animal {self.name} tiene {self.patas} patas y es color {self.color}\""
   ]
  },
  {
   "cell_type": "code",
   "execution_count": 120,
   "metadata": {},
   "outputs": [
    {
     "data": {
      "text/plain": [
       "'El animal Perro tiene 4 patas y es color Gris'"
      ]
     },
     "execution_count": 120,
     "metadata": {},
     "output_type": "execute_result"
    }
   ],
   "source": [
    "Marco = Animal(\"Perro\", 4, \"Gris\")\n",
    "Marco.description()"
   ]
  },
  {
   "cell_type": "code",
   "execution_count": 121,
   "metadata": {},
   "outputs": [],
   "source": [
    "class Aves(Animal):\n",
    "    def __init__ (self, nombre, patas, color, pico):\n",
    "        super().__init__(nombre, patas, color)\n",
    "        self.piko = pico\n",
    "\n",
    "    def size_pico(self):\n",
    "        return super().description()+f\" y mi pico mide {self.piko}.\""
   ]
  },
  {
   "cell_type": "code",
   "execution_count": 122,
   "metadata": {},
   "outputs": [
    {
     "data": {
      "text/plain": [
       "'El animal Periquito tiene 2 patas y es color Azul y mi pico mide 1.5cm.'"
      ]
     },
     "execution_count": 122,
     "metadata": {},
     "output_type": "execute_result"
    }
   ],
   "source": [
    "Pollo = Aves(\"Periquito\", 2, \"Azul\", \"1.5cm\")\n",
    "Pollo.size_pico()"
   ]
  },
  {
   "cell_type": "code",
   "execution_count": 123,
   "metadata": {},
   "outputs": [],
   "source": [
    "class Mamifero(Animal):\n",
    "    def __init__ (self, nombre, patas, color, comida):\n",
    "        super().__init__(nombre, patas, color)\n",
    "        self.food = comida\n",
    "\n",
    "    def Food_is(self):\n",
    "        return super().description()+f\" y come {self.food}\""
   ]
  },
  {
   "cell_type": "code",
   "execution_count": 124,
   "metadata": {},
   "outputs": [
    {
     "data": {
      "text/plain": [
       "'El animal Mono tiene 4 patas y es color Cafe y come alimento para mono'"
      ]
     },
     "execution_count": 124,
     "metadata": {},
     "output_type": "execute_result"
    }
   ],
   "source": [
    "Perry = Mamifero(\"Mono\", 4, \"Cafe\", \"alimento para mono\")\n",
    "Perry.Food_is()"
   ]
  },
  {
   "cell_type": "code",
   "execution_count": 125,
   "metadata": {},
   "outputs": [],
   "source": [
    "class Pez(Animal):\n",
    "    def __init__ (self, nombre, patas, color, tamaño):\n",
    "        super().__init__(nombre, patas, color)\n",
    "        self.size = tamaño\n",
    "\n",
    "    def Size(self):\n",
    "        return super().description()+f\" y mide {self.size}.\""
   ]
  },
  {
   "cell_type": "code",
   "execution_count": 118,
   "metadata": {},
   "outputs": [
    {
     "data": {
      "text/plain": [
       "'El animal Beta tiene 0 patas y es color Azul Rey y mide 25.7cm.'"
      ]
     },
     "execution_count": 126,
     "metadata": {},
     "output_type": "execute_result"
    }
   ],
   "source": [
    "Dory = Pez(\"Beta\", 0, \"Azul Rey\", \"25.7cm\")\n",
    "Dory.Size()"
   ]
  }
 ],
 "metadata": {
  "kernelspec": {
   "display_name": "Python 3",
   "language": "python",
   "name": "python3"
  },
  "language_info": {
   "codemirror_mode": {
    "name": "ipython",
    "version": 3
   },
   "file_extension": ".py",
   "mimetype": "text/x-python",
   "name": "python",
   "nbconvert_exporter": "python",
   "pygments_lexer": "ipython3",
   "version": "3.13.1"
  }
 },
 "nbformat": 4,
 "nbformat_minor": 2
}
