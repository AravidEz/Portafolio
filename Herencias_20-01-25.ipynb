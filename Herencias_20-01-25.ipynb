{
 "cells": [
  {
   "cell_type": "code",
   "execution_count": 35,
   "metadata": {},
   "outputs": [],
   "source": [
    "class Humano:\n",
    "    def __init__(self, nombre, edad, genero):\n",
    "        self.name = nombre\n",
    "        self.age = edad\n",
    "        self.gener = genero\n",
    "\n",
    "    def character(self):\n",
    "        print(f\"Hola!! Mi nombre es {self.name}, tengo {self.age} y soy {self.gener}\")\n",
    "    \n",
    "    def saludo(self):\n",
    "        print(\"Hola soy Humano\")"
   ]
  },
  {
   "cell_type": "code",
   "execution_count": 36,
   "metadata": {},
   "outputs": [],
   "source": [
    "class Programador(Humano):\n",
    "    def __init__(self, nombre, edad, genero, lenguaje):\n",
    "        super().__init__(nombre, edad, genero)\n",
    "        self.language = lenguaje\n",
    "\n",
    "    def salu2(self):\n",
    "        print(\"Hola soy Programador\")\n",
    "\n",
    "    def accion(self):\n",
    "        print(f\"Yo programo en {self.language}\")"
   ]
  },
  {
   "cell_type": "code",
   "execution_count": 37,
   "metadata": {},
   "outputs": [
    {
     "name": "stdout",
     "output_type": "stream",
     "text": [
      "Hola!! Mi nombre es Vale, tengo 18 y soy Mujer\n",
      "Hola soy Humano\n"
     ]
    }
   ],
   "source": [
    "Vale = Humano(\"Vale\", 18, \"Mujer\")\n",
    "Vale.character()\n",
    "Vale.saludo()"
   ]
  },
  {
   "cell_type": "code",
   "execution_count": 38,
   "metadata": {},
   "outputs": [
    {
     "name": "stdout",
     "output_type": "stream",
     "text": [
      "Hola!! Mi nombre es Ana, tengo 18 y soy Mujer\n",
      "Hola soy Humano\n",
      "Hola soy Programador\n",
      "Yo programo en Python\n"
     ]
    }
   ],
   "source": [
    "Ana = Programador(\"Ana\", 18, \"Mujer\", \"Python\")\n",
    "Ana.character()\n",
    "Ana.saludo()\n",
    "Ana.salu2()\n",
    "Ana.accion()"
   ]
  },
  {
   "cell_type": "markdown",
   "metadata": {},
   "source": [
    "**Actividad:** Animal, Nombre, Num. de Patas, Color, Funcion, descrip"
   ]
  },
  {
   "cell_type": "code",
   "execution_count": 39,
   "metadata": {},
   "outputs": [],
   "source": [
    "class Animal():\n",
    "    def __init__(self, nombre, patas, color, funcion):\n",
    "        self.name = nombre\n",
    "        self.patas = patas\n",
    "        self.color = color\n",
    "        self.funtion = funcion\n",
    "        \n",
    "    def description(self):\n",
    "        print(f\"El animal {self.name} tiene {self.patas} patas y es color {self.color}.\")"
   ]
  },
  {
   "cell_type": "code",
   "execution_count": null,
   "metadata": {},
   "outputs": [],
   "source": [
    "class Aves(Animal):\n",
    "    def __init__ (self,)"
   ]
  }
 ],
 "metadata": {
  "kernelspec": {
   "display_name": "Python 3",
   "language": "python",
   "name": "python3"
  },
  "language_info": {
   "codemirror_mode": {
    "name": "ipython",
    "version": 3
   },
   "file_extension": ".py",
   "mimetype": "text/x-python",
   "name": "python",
   "nbconvert_exporter": "python",
   "pygments_lexer": "ipython3",
   "version": "3.13.1"
  }
 },
 "nbformat": 4,
 "nbformat_minor": 2
}
